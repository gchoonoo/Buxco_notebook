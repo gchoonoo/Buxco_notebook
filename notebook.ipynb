{
 "cells": [
  {
   "cell_type": "markdown",
   "metadata": {},
   "source": [
    "# Systems Immunogenetics Project\n",
    "\n",
    "## Buxco Parsing Workflow\n",
    "\n",
    "### McWeeney Lab, Oregon Health & Science University\n",
    "\n",
    "** Authors: Gabrielle Choonoo (choonoo@ohsu.edu) and Michael Mooney (mooneymi@ohsu.edu) **\n",
    "\n",
    "## Introduction\n",
    "\n",
    "This is the step-by-step workflow for parsing the Buxco data into databases for each batch and creating annotation files for each variable.\n",
    "\n",
    "Required Files:\n",
    "* Buxco Data\n",
    "* This notebook (notebook.ipynb): [[Download here]](https://raw.githubusercontent.com/gchoonoo/Buxco_notebook/master/notebook.ipynb)\n",
    "* R Script (utilities_MM.R): [[Download here]](https://raw.githubusercontent.com/gchoonoo/Buxco_notebook/master/utilities_MM.R)\n",
    "* R Script (buxco_annotation_functions_MM_GC_1-JUN-2016.R): [[Download here]](https://raw.githubusercontent.com/gchoonoo/Buxco_notebook/master/buxco_annotation_functions_MM_GC_6-JUN-2016.R)\n",
    "\n",
    "Required R packages:\n",
    "- `plethy`\n",
    "- `plyr`\n",
    "- `R.utils`\n",
    "- `RColorBrewer`\n",
    "- `reshape2`\n",
    "- `IRanges`\n",
    "- `ggplot2`\n",
    "- `flux`\n",
    "\n",
    "**Note: this notebook can also be downloaded as an R script (only the code blocks seen below will be included): [[Download R script here]](https://raw.githubusercontent.com/gchoonoo/Buxco_notebook/master/parse_buxco.r)\n",
    "\n",
    "** All code is available on GitHub: [https://github.com/gchoonoo/Buxco_notebook](https://github.com/gchoonoo/Buxco_notebook) **"
   ]
  },
  {
   "cell_type": "markdown",
   "metadata": {},
   "source": [
    "# Source functions for plotting"
   ]
  },
  {
   "cell_type": "code",
   "execution_count": 1,
   "metadata": {
    "collapsed": false
   },
   "outputs": [
    {
     "name": "stderr",
     "output_type": "stream",
     "text": [
      "Loading required package: BiocGenerics\n",
      "Loading required package: parallel\n",
      "\n",
      "Attaching package: ‘BiocGenerics’\n",
      "\n",
      "The following objects are masked from ‘package:parallel’:\n",
      "\n",
      "    clusterApply, clusterApplyLB, clusterCall, clusterEvalQ,\n",
      "    clusterExport, clusterMap, parApply, parCapply, parLapply,\n",
      "    parLapplyLB, parRapply, parSapply, parSapplyLB\n",
      "\n",
      "The following objects are masked from ‘package:stats’:\n",
      "\n",
      "    IQR, mad, xtabs\n",
      "\n",
      "The following objects are masked from ‘package:base’:\n",
      "\n",
      "    anyDuplicated, append, as.data.frame, as.vector, cbind, colnames,\n",
      "    do.call, duplicated, eval, evalq, Filter, Find, get, grep, grepl,\n",
      "    intersect, is.unsorted, lapply, lengths, Map, mapply, match, mget,\n",
      "    order, paste, pmax, pmax.int, pmin, pmin.int, Position, rank,\n",
      "    rbind, Reduce, rownames, sapply, setdiff, sort, table, tapply,\n",
      "    union, unique, unlist, unsplit\n",
      "\n",
      "Loading required package: S4Vectors\n",
      "Loading required package: stats4\n",
      "Loading required package: R.oo\n",
      "Loading required package: R.methodsS3\n",
      "R.methodsS3 v1.7.1 (2016-02-15) successfully loaded. See ?R.methodsS3 for help.\n",
      "R.oo v1.20.0 (2016-02-17) successfully loaded. See ?R.oo for help.\n",
      "\n",
      "Attaching package: ‘R.oo’\n",
      "\n",
      "The following objects are masked from ‘package:methods’:\n",
      "\n",
      "    getClasses, getMethods\n",
      "\n",
      "The following objects are masked from ‘package:base’:\n",
      "\n",
      "    attach, detach, gc, load, save\n",
      "\n",
      "R.utils v2.3.0 (2016-04-13) successfully loaded. See ?R.utils for help.\n",
      "\n",
      "Attaching package: ‘R.utils’\n",
      "\n",
      "The following object is masked from ‘package:utils’:\n",
      "\n",
      "    timestamp\n",
      "\n",
      "The following objects are masked from ‘package:base’:\n",
      "\n",
      "    cat, commandArgs, getOption, inherits, isOpen, parse, warnings\n",
      "\n",
      "\n",
      "Attaching package: ‘plyr’\n",
      "\n",
      "The following object is masked from ‘package:S4Vectors’:\n",
      "\n",
      "    rename\n",
      "\n",
      "\n",
      "Attaching package: ‘IRanges’\n",
      "\n",
      "The following object is masked from ‘package:plyr’:\n",
      "\n",
      "    desc\n",
      "\n",
      "The following object is masked from ‘package:R.oo’:\n",
      "\n",
      "    trim\n",
      "\n"
     ]
    }
   ],
   "source": [
    "source('utilities_MM.R')"
   ]
  },
  {
   "cell_type": "markdown",
   "metadata": {},
   "source": [
    "# Load Buxco Data and clean"
   ]
  },
  {
   "cell_type": "code",
   "execution_count": 2,
   "metadata": {
    "collapsed": false
   },
   "outputs": [
    {
     "data": {
      "text/html": [
       "<ol class=list-inline>\n",
       "\t<li>'sars'</li>\n",
       "\t<li>'flu'</li>\n",
       "\t<li>'mock'</li>\n",
       "</ol>\n"
      ],
      "text/latex": [
       "\\begin{enumerate*}\n",
       "\\item 'sars'\n",
       "\\item 'flu'\n",
       "\\item 'mock'\n",
       "\\end{enumerate*}\n"
      ],
      "text/markdown": [
       "1. 'sars'\n",
       "2. 'flu'\n",
       "3. 'mock'\n",
       "\n",
       "\n"
      ],
      "text/plain": [
       "[1] \"sars\" \"flu\"  \"mock\""
      ]
     },
     "execution_count": 2,
     "metadata": {},
     "output_type": "execute_result"
    },
    {
     "data": {
      "text/html": [
       "<ol class=list-inline>\n",
       "\t<li>\"3032x16188 f82 SARS\"</li>\n",
       "\t<li>\"Measurement 1\"</li>\n",
       "\t<li>\"Waiting for 1...\"</li>\n",
       "\t<li>\"Create measurement '1'. Duration: 00:05:00\"</li>\n",
       "\t<li>\"3032x16188 f83 SARS\"</li>\n",
       "\t<li>\"3032x16188 f109 SARS\"</li>\n",
       "\t<li>\"3032x16188 f69 FLU\"</li>\n",
       "\t<li>\"3032x16188 f70 FLU\"</li>\n",
       "\t<li>\"3032x16188 f79 FLU\"</li>\n",
       "\t<li>\"3032x16188 f71 Mock\"</li>\n",
       "\t<li>\"3032x16188 f80 Mock\"</li>\n",
       "\t<li>\"8004x8043 f87 SARS\"</li>\n",
       "\t<li>\"8004x8043 f86 SARS\"</li>\n",
       "\t<li>\"8004x8043 f67 SARS\"</li>\n",
       "\t<li>\"8004x8043 f75 FLU\"</li>\n",
       "\t<li>\"8004x8043 f76 FLU\"</li>\n",
       "\t<li>\"8004x8043 f82 FLU\"</li>\n",
       "\t<li>\"8004x8043 f77 Mock\"</li>\n",
       "\t<li>\"8004x8043 f78 Mock\"</li>\n",
       "\t<li>\"8002x3032 f29 Mock\"</li>\n",
       "\t<li>\"8002x3032 f6 Mock\"</li>\n",
       "\t<li>\"8002x3032 f5 FLU\"</li>\n",
       "\t<li>\"8002x3032 f28 FLU\"</li>\n",
       "\t<li>\"8002x3032 f27 FLU\"</li>\n",
       "\t<li>\"8002x3032 f61 SARS\"</li>\n",
       "\t<li>\"8002x3032 f59 SARS\"</li>\n",
       "\t<li>\"8002x3032 f60 SARS\"</li>\n",
       "\t<li>\"Site Acknowledgement Changed: False\"</li>\n",
       "</ol>\n"
      ],
      "text/latex": [
       "\\begin{enumerate*}\n",
       "\\item \"3032x16188 f82 SARS\"\n",
       "\\item \"Measurement 1\"\n",
       "\\item \"Waiting for 1...\"\n",
       "\\item \"Create measurement '1'. Duration: 00:05:00\"\n",
       "\\item \"3032x16188 f83 SARS\"\n",
       "\\item \"3032x16188 f109 SARS\"\n",
       "\\item \"3032x16188 f69 FLU\"\n",
       "\\item \"3032x16188 f70 FLU\"\n",
       "\\item \"3032x16188 f79 FLU\"\n",
       "\\item \"3032x16188 f71 Mock\"\n",
       "\\item \"3032x16188 f80 Mock\"\n",
       "\\item \"8004x8043 f87 SARS\"\n",
       "\\item \"8004x8043 f86 SARS\"\n",
       "\\item \"8004x8043 f67 SARS\"\n",
       "\\item \"8004x8043 f75 FLU\"\n",
       "\\item \"8004x8043 f76 FLU\"\n",
       "\\item \"8004x8043 f82 FLU\"\n",
       "\\item \"8004x8043 f77 Mock\"\n",
       "\\item \"8004x8043 f78 Mock\"\n",
       "\\item \"8002x3032 f29 Mock\"\n",
       "\\item \"8002x3032 f6 Mock\"\n",
       "\\item \"8002x3032 f5 FLU\"\n",
       "\\item \"8002x3032 f28 FLU\"\n",
       "\\item \"8002x3032 f27 FLU\"\n",
       "\\item \"8002x3032 f61 SARS\"\n",
       "\\item \"8002x3032 f59 SARS\"\n",
       "\\item \"8002x3032 f60 SARS\"\n",
       "\\item \"Site Acknowledgement Changed: False\"\n",
       "\\end{enumerate*}\n"
      ],
      "text/markdown": [
       "1. \"3032x16188 f82 SARS\"\n",
       "2. \"Measurement 1\"\n",
       "3. \"Waiting for 1...\"\n",
       "4. \"Create measurement '1'. Duration: 00:05:00\"\n",
       "5. \"3032x16188 f83 SARS\"\n",
       "6. \"3032x16188 f109 SARS\"\n",
       "7. \"3032x16188 f69 FLU\"\n",
       "8. \"3032x16188 f70 FLU\"\n",
       "9. \"3032x16188 f79 FLU\"\n",
       "10. \"3032x16188 f71 Mock\"\n",
       "11. \"3032x16188 f80 Mock\"\n",
       "12. \"8004x8043 f87 SARS\"\n",
       "13. \"8004x8043 f86 SARS\"\n",
       "14. \"8004x8043 f67 SARS\"\n",
       "15. \"8004x8043 f75 FLU\"\n",
       "16. \"8004x8043 f76 FLU\"\n",
       "17. \"8004x8043 f82 FLU\"\n",
       "18. \"8004x8043 f77 Mock\"\n",
       "19. \"8004x8043 f78 Mock\"\n",
       "20. \"8002x3032 f29 Mock\"\n",
       "21. \"8002x3032 f6 Mock\"\n",
       "22. \"8002x3032 f5 FLU\"\n",
       "23. \"8002x3032 f28 FLU\"\n",
       "24. \"8002x3032 f27 FLU\"\n",
       "25. \"8002x3032 f61 SARS\"\n",
       "26. \"8002x3032 f59 SARS\"\n",
       "27. \"8002x3032 f60 SARS\"\n",
       "28. \"Site Acknowledgement Changed: False\"\n",
       "\n",
       "\n"
      ],
      "text/plain": [
       " [1] \"3032x16188 f82 SARS\"                       \n",
       " [2] \"Measurement 1\"                             \n",
       " [3] \"Waiting for 1...\"                          \n",
       " [4] \"Create measurement '1'. Duration: 00:05:00\"\n",
       " [5] \"3032x16188 f83 SARS\"                       \n",
       " [6] \"3032x16188 f109 SARS\"                      \n",
       " [7] \"3032x16188 f69 FLU\"                        \n",
       " [8] \"3032x16188 f70 FLU\"                        \n",
       " [9] \"3032x16188 f79 FLU\"                        \n",
       "[10] \"3032x16188 f71 Mock\"                       \n",
       "[11] \"3032x16188 f80 Mock\"                       \n",
       "[12] \"8004x8043 f87 SARS\"                        \n",
       "[13] \"8004x8043 f86 SARS\"                        \n",
       "[14] \"8004x8043 f67 SARS\"                        \n",
       "[15] \"8004x8043 f75 FLU\"                         \n",
       "[16] \"8004x8043 f76 FLU\"                         \n",
       "[17] \"8004x8043 f82 FLU\"                         \n",
       "[18] \"8004x8043 f77 Mock\"                        \n",
       "[19] \"8004x8043 f78 Mock\"                        \n",
       "[20] \"8002x3032 f29 Mock\"                        \n",
       "[21] \"8002x3032 f6 Mock\"                         \n",
       "[22] \"8002x3032 f5 FLU\"                          \n",
       "[23] \"8002x3032 f28 FLU\"                         \n",
       "[24] \"8002x3032 f27 FLU\"                         \n",
       "[25] \"8002x3032 f61 SARS\"                        \n",
       "[26] \"8002x3032 f59 SARS\"                        \n",
       "[27] \"8002x3032 f60 SARS\"                        \n",
       "[28] \"Site Acknowledgement Changed: False\"       "
      ]
     },
     "execution_count": 2,
     "metadata": {},
     "output_type": "execute_result"
    },
    {
     "name": "stderr",
     "output_type": "stream",
     "text": [
      "Warning message:\n",
      "In write.table(aug_2013[, 1:output_cols], file = cleaned_file, append = T, : appending column names to file"
     ]
    }
   ],
   "source": [
    "# Set file path of data\n",
    "aug_2013 = '2013_iAugust - buxco.txt'\n",
    "\n",
    "# Read in data\n",
    "aug_2013 = read.delim(aug_2013, sep=',', header=T, as.is=T, skip=1)\n",
    "\n",
    "# Save number of columns\n",
    "length(names(aug_2013)) -> output_cols\n",
    "\n",
    "# Set data header and footer\n",
    "table_header='Table WBPth'\n",
    "table_footer='Table Metabolism'\n",
    "table_footer_cols = as.character(tail(aug_2013, 1))[!is.na(tail(aug_2013, 1))]\n",
    "\n",
    "# Subset to exclude last two rows \n",
    "aug_2013 = aug_2013[1:(dim(aug_2013)[1]-2), ]\n",
    "\n",
    "# Annotate Mating, RIX, Virus, and Sex\n",
    "aug_2013$Mating = sapply(strsplit(aug_2013$Subject, ' +'), '[', 1)\n",
    "aug_2013$RIX_ID = sapply(strsplit(aug_2013$Subject, ' +'), '[', 2)\n",
    "aug_2013$Virus = sapply(strsplit(aug_2013$Subject, ' +'), '[', 3)\n",
    "aug_2013$Sex = NA\n",
    "aug_2013$Sex[grepl('f|F', aug_2013$RIX_ID)] = 'F'\n",
    "aug_2013$Sex[grepl('m|M', aug_2013$RIX_ID)] = 'M' \n",
    "aug_2013$RIX_ID = gsub('f|m', '', aug_2013$RIX_ID)\n",
    "\n",
    "# Check if Virus is annotated correctly\n",
    "unique(aug_2013[grep(\"x\",aug_2013[,\"Subject\"]),\"Virus\"])\n",
    "\n",
    "# Code chunk to annotate virus based on weight sheets\n",
    "# aug_2013$Virus2 = NA\n",
    "# for(i in 1:dim(virus_annot)[1]){\n",
    "#   print(i)\n",
    "#   aug_2013[paste(aug_2013[,\"Mating\"],aug_2013[,\"RIX_ID\"],sep=\"_\") %in% virus_annot[i,1],\"Virus2\"] <- as.character(virus_annot[i,2])\n",
    "# }\n",
    "# \n",
    "# aug_2013[which(is.na(aug_2013[,\"Virus\"])),\"Virus\"] <- aug_2013[which(is.na(aug_2013[,\"Virus\"])),\"Virus2\"]\n",
    "\n",
    "# Standardize Virus column: SARS, FLU, Mock\n",
    "aug_2013[which(aug_2013[,\"Virus\"] == \"sars\"),\"Virus\"] <- \"SARS\"\n",
    "aug_2013[which(aug_2013[,\"Virus\"] == \"flu\"),\"Virus\"] <- \"FLU\"\n",
    "aug_2013[which(aug_2013[,\"Virus\"] == \"mock\"),\"Virus\"] <- \"Mock\"\n",
    "\n",
    "# Clean sample names\n",
    "aug_2013$Subject_cleaned = aug_2013$Subject\n",
    "aug_2013[grep(\"x\",aug_2013[,\"Subject\"]),\"Subject_cleaned\"] = paste(aug_2013[grep(\"x\",aug_2013[,\"Subject\"]),\"Mating\"], paste0(tolower(aug_2013[grep(\"x\",aug_2013[,\"Subject\"]),\"Sex\"]), aug_2013[grep(\"x\",aug_2013[,\"Subject\"]),\"RIX_ID\"]), aug_2013[grep(\"x\",aug_2013[,\"Subject\"]),\"Virus\"], sep=' ')\n",
    "aug_2013$Subject = aug_2013$Subject_cleaned\n",
    "\n",
    "# Check Unique Sample Names\n",
    "# Default rows that are removed in parsing process: burn.in.lines=c(\"Measurement\", \"Create measurement\", \"Waiting for\",\"Site Acknowledgement Changed\")\n",
    "# \"Subject\" and blanks are also removed.\n",
    "# Note any others that do not have the form Mating RIX Virus (i.e. \"Responding to\")\n",
    "unique(aug_2013$Subject)\n",
    "\n",
    "# remove variable RH, EXP, value >= 100\n",
    "# remove variabe Tc, EXP, negative values and -50\n",
    "if(length(which(aug_2013[,\"RH\"] >=100)) > 0){\n",
    "  aug_2013[-which(aug_2013[,\"RH\"] >= 100),] -> aug_2013\n",
    "}\n",
    "\n",
    "if(length(which(aug_2013[,\"Tc\"] < 0)) > 0){\n",
    "  aug_2013[-which(aug_2013[,\"Tc\"] < 0),] -> aug_2013\n",
    "}\n",
    "\n",
    "# Output in Buxco format\n",
    "colnames(aug_2013)[output_cols] = ''\n",
    "cleaned_file = '2013_iAugust - buxco_cleaned.txt'\n",
    "cat(table_header, file=cleaned_file, sep='\\n')\n",
    "write.table(aug_2013[,1:output_cols], file=cleaned_file, append=T, sep=',', col.names=T, row.names=F, quote=F, na='')\n",
    "cat(table_footer, file=cleaned_file, append=T, sep='\\n')\n",
    "cat(table_footer_cols, file=cleaned_file, append=T, sep=',')\n",
    "cat(',\\n', file=cleaned_file, append=T)"
   ]
  },
  {
   "cell_type": "markdown",
   "metadata": {},
   "source": [
    "# Make any specific data corrections needed from Readme (August 2014, and 2015)"
   ]
  },
  {
   "cell_type": "markdown",
   "metadata": {},
   "source": [
    "# Create Buxco Database"
   ]
  },
  {
   "cell_type": "code",
   "execution_count": 3,
   "metadata": {
    "collapsed": false
   },
   "outputs": [
    {
     "data": {
      "text/plain": [
       "BuxcoDB object:\n",
       "Database: August2013_database.db \n",
       "Annotation Table: Additional_labels \n",
       "| PARSE_DATE: 2016-06-23 09:46:18\n",
       "| DBSCHEMA: Buxco\n",
       "| package: plethy\n",
       "| Db type: BuxcoDB\n",
       "| DBSCHEMAVERION: 1.0"
      ]
     },
     "execution_count": 3,
     "metadata": {},
     "output_type": "execute_result"
    }
   ],
   "source": [
    "# Set the file path to the cleaned buxco data\n",
    "aug_2013_path <- \"2013_iAugust - buxco_cleaned.txt\"\n",
    "\n",
    "# Set the file size to the number of rows in the file\n",
    "chunk.size <- dim(aug_2013)[1]\n",
    "\n",
    "# Set the file path of where to save the data base\n",
    "db.name <- file.path(\"August2013_database.db\")\n",
    "\n",
    "# Parse the data, add \"Responding to\" in the burn.in.lines if necessary (Note: This takes a few minutes to run)\n",
    "parse.buxco(file.name=aug_2013_path, chunk.size=chunk.size, db.name=db.name, verbose=FALSE)\n",
    "\n",
    "# Note any parsing warnings that get printed (Sample Name and Break number), none in this case"
   ]
  },
  {
   "cell_type": "markdown",
   "metadata": {},
   "source": [
    "# Add Annotation"
   ]
  },
  {
   "cell_type": "code",
   "execution_count": 4,
   "metadata": {
    "collapsed": false
   },
   "outputs": [
    {
     "data": {
      "text/html": [
       "TRUE"
      ],
      "text/latex": [
       "TRUE"
      ],
      "text/markdown": [
       "TRUE"
      ],
      "text/plain": [
       "[1] TRUE"
      ]
     },
     "execution_count": 4,
     "metadata": {},
     "output_type": "execute_result"
    },
    {
     "data": {
      "text/html": [
       "TRUE"
      ],
      "text/latex": [
       "TRUE"
      ],
      "text/markdown": [
       "TRUE"
      ],
      "text/plain": [
       "[1] TRUE"
      ]
     },
     "execution_count": 4,
     "metadata": {},
     "output_type": "execute_result"
    },
    {
     "data": {
      "text/html": [
       "TRUE"
      ],
      "text/latex": [
       "TRUE"
      ],
      "text/markdown": [
       "TRUE"
      ],
      "text/plain": [
       "[1] TRUE"
      ]
     },
     "execution_count": 4,
     "metadata": {},
     "output_type": "execute_result"
    }
   ],
   "source": [
    "# Read in the data base that was created\n",
    "August2013_database.db <- makeBuxcoDB(db.name=file.path(\"August2013_database.db\"))\n",
    "\n",
    "# Add the Virus, Day and Break type level (EXP, ACC, ERR, or UNK)\n",
    "addAnnotation(August2013_database.db, query=virus.query, index=TRUE)  \n",
    "addAnnotation(August2013_database.db, query=day.infer.query, index=TRUE)  \n",
    "addAnnotation(August2013_database.db, query=break.type.query, index=TRUE)"
   ]
  },
  {
   "cell_type": "markdown",
   "metadata": {},
   "source": [
    "# Save parsing warnings, error, and unknown rows"
   ]
  },
  {
   "cell_type": "code",
   "execution_count": 5,
   "metadata": {
    "collapsed": false
   },
   "outputs": [
    {
     "data": {
      "text/html": [
       "<dl>\n",
       "\t<dt>$Virus</dt>\n",
       "\t\t<dd><ol class=list-inline>\n",
       "\t<li>'FLU'</li>\n",
       "\t<li>'Mock'</li>\n",
       "\t<li>'SARS'</li>\n",
       "</ol>\n",
       "</dd>\n",
       "\t<dt>$Days</dt>\n",
       "\t\t<dd><ol class=list-inline>\n",
       "\t<li>0</li>\n",
       "\t<li>4</li>\n",
       "\t<li>5</li>\n",
       "\t<li>6</li>\n",
       "\t<li>7</li>\n",
       "\t<li>9</li>\n",
       "\t<li>11</li>\n",
       "\t<li>14</li>\n",
       "\t<li>19</li>\n",
       "\t<li>26</li>\n",
       "</ol>\n",
       "</dd>\n",
       "\t<dt>$Break_type_label</dt>\n",
       "\t\t<dd><ol class=list-inline>\n",
       "\t<li>'ACC'</li>\n",
       "\t<li>'ERR'</li>\n",
       "\t<li>'EXP'</li>\n",
       "</ol>\n",
       "</dd>\n",
       "</dl>\n"
      ],
      "text/latex": [
       "\\begin{description}\n",
       "\\item[\\$Virus] \\begin{enumerate*}\n",
       "\\item 'FLU'\n",
       "\\item 'Mock'\n",
       "\\item 'SARS'\n",
       "\\end{enumerate*}\n",
       "\n",
       "\\item[\\$Days] \\begin{enumerate*}\n",
       "\\item 0\n",
       "\\item 4\n",
       "\\item 5\n",
       "\\item 6\n",
       "\\item 7\n",
       "\\item 9\n",
       "\\item 11\n",
       "\\item 14\n",
       "\\item 19\n",
       "\\item 26\n",
       "\\end{enumerate*}\n",
       "\n",
       "\\item[\\$Break\\_type\\_label] \\begin{enumerate*}\n",
       "\\item 'ACC'\n",
       "\\item 'ERR'\n",
       "\\item 'EXP'\n",
       "\\end{enumerate*}\n",
       "\n",
       "\\end{description}\n"
      ],
      "text/markdown": [
       "$Virus\n",
       ":   1. 'FLU'\n",
       "2. 'Mock'\n",
       "3. 'SARS'\n",
       "\n",
       "\n",
       "\n",
       "$Days\n",
       ":   1. 0\n",
       "2. 4\n",
       "3. 5\n",
       "4. 6\n",
       "5. 7\n",
       "6. 9\n",
       "7. 11\n",
       "8. 14\n",
       "9. 19\n",
       "10. 26\n",
       "\n",
       "\n",
       "\n",
       "$Break_type_label\n",
       ":   1. 'ACC'\n",
       "2. 'ERR'\n",
       "3. 'EXP'\n",
       "\n",
       "\n",
       "\n",
       "\n",
       "\n"
      ],
      "text/plain": [
       "$Virus\n",
       "[1] \"FLU\"  \"Mock\" \"SARS\"\n",
       "\n",
       "$Days\n",
       " [1]  0  4  5  6  7  9 11 14 19 26\n",
       "\n",
       "$Break_type_label\n",
       "[1] \"ACC\" \"ERR\" \"EXP\"\n"
      ]
     },
     "execution_count": 5,
     "metadata": {},
     "output_type": "execute_result"
    }
   ],
   "source": [
    "# Check Break type levels\n",
    "annoLevels(August2013_database.db)\n",
    "\n",
    "# Subset the parsing warning and error rows in each file\n",
    "# Example:\n",
    "acc.aug2013 <- retrieveData(August2013_database.db, variables=variables(August2013_database.db), Break_type_label = 'ACC')\n",
    "\n",
    "# acc.feb2013[which(acc.feb2013[,1] == \"16513x16188 f105 FLU\" & acc.feb2013[,\"Break_number\"] == 158),] -> acc.feb2013_warning"
   ]
  },
  {
   "cell_type": "markdown",
   "metadata": {},
   "source": [
    "# Buxco Annotation Workflow"
   ]
  },
  {
   "cell_type": "code",
   "execution_count": 6,
   "metadata": {
    "collapsed": false
   },
   "outputs": [
    {
     "name": "stderr",
     "output_type": "stream",
     "text": [
      "Loading required package: caTools\n",
      "\n",
      "Attaching package: ‘caTools’\n",
      "\n",
      "The following object is masked from ‘package:IRanges’:\n",
      "\n",
      "    runmean\n",
      "\n",
      "The following object is masked from ‘package:S4Vectors’:\n",
      "\n",
      "    runmean\n",
      "\n",
      "This is flux 0.3-0\n"
     ]
    }
   ],
   "source": [
    "# Source Functions\n",
    "source(\"buxco_annotation_functions_MM_GC_6-JUN-2016.R\")\n",
    "\n",
    "# Set working directory to file that contains Buxco databases\n",
    "db_dir = \"Database\""
   ]
  },
  {
   "cell_type": "code",
   "execution_count": 7,
   "metadata": {
    "collapsed": false
   },
   "outputs": [],
   "source": [
    "# Initialize empty list to the number of databases in the directory\n",
    "buxco_annot_penh_log = vector(\"list\",length(dir(db_dir)))\n",
    "\n",
    "# Retrieve data from all batches and combine together with means, use specific transformation for each variable (i.e. Penh: log transform)\n",
    "combine_data(data=buxco_annot_penh_log, FUN=log, variables=\"Penh\",db_dir=db_dir) -> buxco_annot_penh_data_log\n",
    "\n",
    "# Get mock means and AUC\n",
    "mock_mean(data=buxco_annot_penh_data_log) -> buxco_annot_penh_data_log_mock\n",
    "\n",
    "# Save annotation file\n",
    "# write.table(file=\"./buxco_annotation_penh_log.txt\",x=buxco_annot_penh_data_log_mock, sep=\"\\t\", row.names=F, quote=F, na=\"\")"
   ]
  },
  {
   "cell_type": "code",
   "execution_count": 8,
   "metadata": {
    "collapsed": false
   },
   "outputs": [
    {
     "data": {
      "text/html": [
       "<table>\n",
       "<thead><tr><th></th><th scope=col>Mating</th><th scope=col>Date</th><th scope=col>Virus</th><th scope=col>Days_PI</th><th scope=col>Sample_Name</th><th scope=col>ID</th><th scope=col>Sex</th><th scope=col>RIX_ID</th><th scope=col>Rec_Exp_date</th><th scope=col>Days</th><th scope=col>⋯</th><th scope=col>virus_median_per_day</th><th scope=col>Break_type_label_all</th><th scope=col>mock_mean_per_day</th><th scope=col>mock_sd_per_day</th><th scope=col>line_virus_mean_per_day</th><th scope=col>mean_diff_infected_mock_per_day</th><th scope=col>AUC</th><th scope=col>AUC_mock_mean</th><th scope=col>AUC_diff_infected_mock</th><th scope=col>AUC_per_day</th></tr></thead>\n",
       "<tbody>\n",
       "\t<tr><th scope=row>1</th><td>3032x16188            </td><td>August2013_database.db</td><td>FLU                   </td><td>-3                    </td><td>3032x16188_f70_FLU    </td><td>3032x16188_70         </td><td>F                     </td><td>70                    </td><td>D-3                   </td><td>0                     </td><td>⋯                     </td><td>-0.84742355033209     </td><td>ACC,EXP               </td><td>-0.853956018093215    </td><td>0.0730729664706057    </td><td>-1.00960061555418     </td><td>-0.35518459274305     </td><td>-28.2163898881045     </td><td>-27.2331907066229     </td><td>-0.98319918148157     </td><td>NA                    </td></tr>\n",
       "\t<tr><th scope=row>2</th><td>3032x16188            </td><td>August2013_database.db</td><td>FLU                   </td><td>-3                    </td><td>3032x16188_f79_FLU    </td><td>3032x16188_79         </td><td>F                     </td><td>79                    </td><td>D-3                   </td><td>0                     </td><td>⋯                     </td><td>-0.84742355033209     </td><td>ACC,EXP               </td><td>-0.853956018093215    </td><td>0.0730729664706057    </td><td>-1.00960061555418     </td><td>-0.14422514709782     </td><td>-6.31174468271964     </td><td>-27.2331907066229     </td><td>20.9214460239033      </td><td>NA                    </td></tr>\n",
       "\t<tr><th scope=row>3</th><td>3032x16188            </td><td>August2013_database.db</td><td>FLU                   </td><td>-3                    </td><td>3032x16188_f69_FLU    </td><td>3032x16188_69         </td><td>F                     </td><td>69                    </td><td>D-3                   </td><td>0                     </td><td>⋯                     </td><td>-0.84742355033209     </td><td>ACC,EXP               </td><td>-0.853956018093215    </td><td>0.0730729664706057    </td><td>-1.00960061555418     </td><td>0.0324759474579855    </td><td>-22.0528033621098     </td><td>-27.2331907066229     </td><td>5.18038734451311      </td><td>NA                    </td></tr>\n",
       "\t<tr><th scope=row>4</th><td>3032x16188            </td><td>August2013_database.db</td><td>FLU                   </td><td>1                     </td><td>3032x16188_f69_FLU    </td><td>3032x16188_69         </td><td>F                     </td><td>69                    </td><td>D1                    </td><td>4                     </td><td>⋯                     </td><td>-0.925700749076511    </td><td>ACC,EXP               </td><td>-0.606474871979884    </td><td>0.621370998160779     </td><td>-1.04217337186206     </td><td>-0.687938937799747    </td><td>-22.0528033621098     </td><td>-27.2331907066229     </td><td>5.18038734451311      </td><td>-4.23178776082972     </td></tr>\n",
       "\t<tr><th scope=row>5</th><td>3032x16188            </td><td>August2013_database.db</td><td>FLU                   </td><td>1                     </td><td>3032x16188_f79_FLU    </td><td>3032x16188_79         </td><td>F                     </td><td>79                    </td><td>D1                    </td><td>4                     </td><td>⋯                     </td><td>-0.925700749076511    </td><td>ACC,EXP               </td><td>-0.606474871979884    </td><td>0.621370998160779     </td><td>-1.04217337186206     </td><td>-0.222092008347431    </td><td>-6.31174468271964     </td><td>-27.2331907066229     </td><td>20.9214460239033      </td><td>-3.6534960910367      </td></tr>\n",
       "\t<tr><th scope=row>6</th><td>3032x16188            </td><td>August2013_database.db</td><td>FLU                   </td><td>1                     </td><td>3032x16188_f70_FLU    </td><td>3032x16188_70         </td><td>F                     </td><td>70                    </td><td>D1                    </td><td>4                     </td><td>⋯                     </td><td>-0.925700749076511    </td><td>ACC,EXP               </td><td>-0.606474871979884    </td><td>0.621370998160779     </td><td>-1.04217337186206     </td><td>-0.397064553499341    </td><td>-28.2163898881045     </td><td>-27.2331907066229     </td><td>-0.98319918148157     </td><td>-4.42536007263098     </td></tr>\n",
       "</tbody>\n",
       "</table>\n"
      ],
      "text/latex": [
       "\\begin{tabular}{r|llllllllllllllllllllllll}\n",
       "  & Mating & Date & Virus & Days\\_PI & Sample\\_Name & ID & Sex & RIX\\_ID & Rec\\_Exp\\_date & Days & ⋯ & virus\\_median\\_per\\_day & Break\\_type\\_label\\_all & mock\\_mean\\_per\\_day & mock\\_sd\\_per\\_day & line\\_virus\\_mean\\_per\\_day & mean\\_diff\\_infected\\_mock\\_per\\_day & AUC & AUC\\_mock\\_mean & AUC\\_diff\\_infected\\_mock & AUC\\_per\\_day\\\\\n",
       "\\hline\n",
       "\t1 & 3032x16188               & August2013\\_database.db & FLU                      & -3                       & 3032x16188\\_f70\\_FLU   & 3032x16188\\_70          & F                        & 70                       & D-3                      & 0                        & ⋯                        & -0.84742355033209        & ACC,EXP                  & -0.853956018093215       & 0.0730729664706057       & -1.00960061555418        & -0.35518459274305        & -28.2163898881045        & -27.2331907066229        & -0.98319918148157        & NA                      \\\\\n",
       "\t2 & 3032x16188               & August2013\\_database.db & FLU                      & -3                       & 3032x16188\\_f79\\_FLU   & 3032x16188\\_79          & F                        & 79                       & D-3                      & 0                        & ⋯                        & -0.84742355033209        & ACC,EXP                  & -0.853956018093215       & 0.0730729664706057       & -1.00960061555418        & -0.14422514709782        & -6.31174468271964        & -27.2331907066229        & 20.9214460239033         & NA                      \\\\\n",
       "\t3 & 3032x16188               & August2013\\_database.db & FLU                      & -3                       & 3032x16188\\_f69\\_FLU   & 3032x16188\\_69          & F                        & 69                       & D-3                      & 0                        & ⋯                        & -0.84742355033209        & ACC,EXP                  & -0.853956018093215       & 0.0730729664706057       & -1.00960061555418        & 0.0324759474579855       & -22.0528033621098        & -27.2331907066229        & 5.18038734451311         & NA                      \\\\\n",
       "\t4 & 3032x16188               & August2013\\_database.db & FLU                      & 1                        & 3032x16188\\_f69\\_FLU   & 3032x16188\\_69          & F                        & 69                       & D1                       & 4                        & ⋯                        & -0.925700749076511       & ACC,EXP                  & -0.606474871979884       & 0.621370998160779        & -1.04217337186206        & -0.687938937799747       & -22.0528033621098        & -27.2331907066229        & 5.18038734451311         & -4.23178776082972       \\\\\n",
       "\t5 & 3032x16188               & August2013\\_database.db & FLU                      & 1                        & 3032x16188\\_f79\\_FLU   & 3032x16188\\_79          & F                        & 79                       & D1                       & 4                        & ⋯                        & -0.925700749076511       & ACC,EXP                  & -0.606474871979884       & 0.621370998160779        & -1.04217337186206        & -0.222092008347431       & -6.31174468271964        & -27.2331907066229        & 20.9214460239033         & -3.6534960910367        \\\\\n",
       "\t6 & 3032x16188               & August2013\\_database.db & FLU                      & 1                        & 3032x16188\\_f70\\_FLU   & 3032x16188\\_70          & F                        & 70                       & D1                       & 4                        & ⋯                        & -0.925700749076511       & ACC,EXP                  & -0.606474871979884       & 0.621370998160779        & -1.04217337186206        & -0.397064553499341       & -28.2163898881045        & -27.2331907066229        & -0.98319918148157        & -4.42536007263098       \\\\\n",
       "\\end{tabular}\n"
      ],
      "text/plain": [
       "      Mating                   Date Virus Days_PI        Sample_Name\n",
       "1 3032x16188 August2013_database.db   FLU      -3 3032x16188_f70_FLU\n",
       "2 3032x16188 August2013_database.db   FLU      -3 3032x16188_f79_FLU\n",
       "3 3032x16188 August2013_database.db   FLU      -3 3032x16188_f69_FLU\n",
       "4 3032x16188 August2013_database.db   FLU       1 3032x16188_f69_FLU\n",
       "5 3032x16188 August2013_database.db   FLU       1 3032x16188_f79_FLU\n",
       "6 3032x16188 August2013_database.db   FLU       1 3032x16188_f70_FLU\n",
       "             ID Sex RIX_ID Rec_Exp_date Days ⋯ virus_median_per_day\n",
       "1 3032x16188_70   F     70          D-3    0 ⋯           -0.8474236\n",
       "2 3032x16188_79   F     79          D-3    0 ⋯           -0.8474236\n",
       "3 3032x16188_69   F     69          D-3    0 ⋯           -0.8474236\n",
       "4 3032x16188_69   F     69           D1    4 ⋯           -0.9257007\n",
       "5 3032x16188_79   F     79           D1    4 ⋯           -0.9257007\n",
       "6 3032x16188_70   F     70           D1    4 ⋯           -0.9257007\n",
       "  Break_type_label_all mock_mean_per_day mock_sd_per_day\n",
       "1              ACC,EXP        -0.8539560      0.07307297\n",
       "2              ACC,EXP        -0.8539560      0.07307297\n",
       "3              ACC,EXP        -0.8539560      0.07307297\n",
       "4              ACC,EXP        -0.6064749      0.62137100\n",
       "5              ACC,EXP        -0.6064749      0.62137100\n",
       "6              ACC,EXP        -0.6064749      0.62137100\n",
       "  line_virus_mean_per_day mean_diff_infected_mock_per_day        AUC\n",
       "1               -1.009601                     -0.35518459 -28.216390\n",
       "2               -1.009601                     -0.14422515  -6.311745\n",
       "3               -1.009601                      0.03247595 -22.052803\n",
       "4               -1.042173                     -0.68793894 -22.052803\n",
       "5               -1.042173                     -0.22209201  -6.311745\n",
       "6               -1.042173                     -0.39706455 -28.216390\n",
       "  AUC_mock_mean AUC_diff_infected_mock AUC_per_day\n",
       "1     -27.23319             -0.9831992          NA\n",
       "2     -27.23319             20.9214460          NA\n",
       "3     -27.23319              5.1803873          NA\n",
       "4     -27.23319              5.1803873   -4.231788\n",
       "5     -27.23319             20.9214460   -3.653496\n",
       "6     -27.23319             -0.9831992   -4.425360"
      ]
     },
     "execution_count": 8,
     "metadata": {},
     "output_type": "execute_result"
    }
   ],
   "source": [
    "# View first few columns of annotation file\n",
    "head(buxco_annot_penh_data_log_mock)"
   ]
  },
  {
   "cell_type": "code",
   "execution_count": null,
   "metadata": {
    "collapsed": true
   },
   "outputs": [],
   "source": []
  }
 ],
 "metadata": {
  "kernelspec": {
   "display_name": "R",
   "language": "R",
   "name": "ir"
  },
  "language_info": {
   "codemirror_mode": "r",
   "file_extension": ".r",
   "mimetype": "text/x-r-source",
   "name": "R",
   "pygments_lexer": "r",
   "version": "3.2.2"
  }
 },
 "nbformat": 4,
 "nbformat_minor": 0
}
