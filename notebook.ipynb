{
 "cells": [
  {
   "cell_type": "markdown",
   "metadata": {},
   "source": [
    "# Systems Immunogenetics Project\n",
    "\n",
    "## Buxco Parsing Workflow\n",
    "\n",
    "### McWeeney Lab, Oregon Health & Science University\n",
    "\n",
    "** Authors: Gabrielle Choonoo (choonoo@ohsu.edu) and Michael Mooney (mooneymi@ohsu.edu) **\n",
    "\n",
    "## Introduction\n",
    "\n",
    "This is the step-by-step workflow for parsing the Buxco data into databases for each batch.\n",
    "\n",
    "Required Files:\n",
    "* Buxco Data\n",
    "* This notebook (notebook.ipynb): [[Download here]](https://raw.githubusercontent.com/gchoonoo/Buxco_notebook/master/notebook.ipynb)\n",
    "\n",
    "Required R packages:\n",
    "- `plethy`\n",
    "- `plyr`\n",
    "\n",
    "**Note: this notebook can also be downloaded as an R script (only the code blocks seen below will be included): [[Download R script here]](https://raw.githubusercontent.com/gchoonoo/Buxco_notebook/master/parse_buxco.r)\n",
    "\n",
    "** All code is available on GitHub: [https://github.com/gchoonoo/Buxco_notebook](https://github.com/gchoonoo/Buxco_notebook) **"
   ]
  },
  {
   "cell_type": "markdown",
   "metadata": {},
   "source": [
    "# Load Buxco Data"
   ]
  },
  {
   "cell_type": "code",
   "execution_count": null,
   "metadata": {
    "collapsed": true
   },
   "outputs": [],
   "source": [
    "read.delim(file=\"./Buxco_Data/2013_iAugust - buxco.txt\", sep=\",\", skip=1, header=T, colClasses=c(rep(NA,21),\"NULL\")) -> aug_2013_data"
   ]
  },
  {
   "cell_type": "markdown",
   "metadata": {},
   "source": [
    "# Check Unique Sample Names"
   ]
  },
  {
   "cell_type": "code",
   "execution_count": null,
   "metadata": {
    "collapsed": true
   },
   "outputs": [],
   "source": [
    "# The default lines that are removed are \"Measurement\", \"Create measurement\", \"Waiting for\", and \"Site Acknowledgement Changed\".\n",
    "# \"Subject\" and blanks are also removed.\n",
    "# Note any others that do not have the form Mating RIX Virus (i.e. \"Responding to\")\n",
    "unique(aug_2013_data[,\"Subject\"])"
   ]
  },
  {
   "cell_type": "markdown",
   "metadata": {},
   "source": [
    "# Create Buxco Database"
   ]
  },
  {
   "cell_type": "code",
   "execution_count": null,
   "metadata": {
    "collapsed": true
   },
   "outputs": [],
   "source": [
    "# Set the file path to the buxco data\n",
    "aug_2013 <- \"./Buxco_Data/2013_iAugust - buxco.txt\"\n",
    "# Set the file size the number of rows in the file\n",
    "chunk.size <- dim(aug_2013_data)[1]\n",
    "# Set the file path of where to save the data base\n",
    "db.name <- file.path(\"./Buxco_Data/Database/August2013_database.db\")\n",
    "# Parse the data, add \"Responding to\" in the burn.in.lines if necessary\n",
    "parse.buxco(file.name=aug_2013, chunk.size=chunk.size, db.name=db.name, verbose=FALSE, burn.in.lines=c(\"Measurement\", \"Create measurement\", \"Waiting for\",\"Site Acknowledgement Changed\"))\n",
    "# Note any parsing warnings that get printed (Sample Name and Break number), none in this case"
   ]
  },
  {
   "cell_type": "markdown",
   "metadata": {},
   "source": [
    "# Add Annotation"
   ]
  },
  {
   "cell_type": "code",
   "execution_count": null,
   "metadata": {
    "collapsed": true
   },
   "outputs": [],
   "source": [
    "# Read in the data base that was created\n",
    "August2013_database.db <- makeBuxcoDB(db.name=file.path(\"./Buxco_Data/Database/August2013_database.db\"))\n",
    "\n",
    "# Add the Day and Break type level (EXP, ACC, ERR, or UNK)\n",
    "addAnnotation(August2013_database.db, query=day.infer.query, index=TRUE)  \n",
    "addAnnotation(August2013_database.db, query=break.type.query, index=TRUE)\n",
    "\n",
    "# Check Break type levels\n",
    "annoLevels(August2013_database.db)"
   ]
  },
  {
   "cell_type": "markdown",
   "metadata": {},
   "source": [
    "# Save parsing warnings, error, and unknown rows"
   ]
  },
  {
   "cell_type": "code",
   "execution_count": null,
   "metadata": {
    "collapsed": true
   },
   "outputs": [],
   "source": [
    "acc.aug2013 <- retrieveData(August2013_database.db, variables=variables(August2013_database.db), Break_type_label = 'ACC')\n",
    "exp.aug2013 <- retrieveData(August2013_database.db, variables=variables(August2013_database.db), Break_type_label = 'EXP')\n",
    "err.aug2013 <- retrieveData(August2013_database.db, variables=variables(August2013_database.db), Break_type_label = 'ERR')\n",
    "\n",
    "# Subset the parsing warning rows in each file\n",
    "# Example:\n",
    "# acc.feb2013[which(acc.feb2013[,1] == \"16513x16188 f105 FLU\" & acc.feb2013[,\"Break_number\"] == 158),] -> acc.feb2013_warning"
   ]
  }
 ],
 "metadata": {
  "kernelspec": {
   "display_name": "R",
   "language": "R",
   "name": "ir"
  },
  "language_info": {
   "codemirror_mode": "r",
   "file_extension": ".r",
   "mimetype": "text/x-r-source",
   "name": "R",
   "pygments_lexer": "r",
   "version": "3.2.2"
  }
 },
 "nbformat": 4,
 "nbformat_minor": 0
}
